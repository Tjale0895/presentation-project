{
 "cells": [
  {
   "cell_type": "markdown",
   "metadata": {},
   "source": [
    "# Convert the .json files into a workable .csv format"
   ]
  },
  {
   "cell_type": "markdown",
   "metadata": {},
   "source": [
    "## 1. Import the libraries"
   ]
  },
  {
   "cell_type": "code",
   "execution_count": 15,
   "metadata": {},
   "outputs": [],
   "source": [
    "import pandas as pd\n",
    "import glob"
   ]
  },
  {
   "attachments": {},
   "cell_type": "markdown",
   "metadata": {},
   "source": [
    "## 2. Convert the individual .json files into .csv format"
   ]
  },
  {
   "cell_type": "code",
   "execution_count": 16,
   "metadata": {},
   "outputs": [],
   "source": [
    "pd.read_json(\"StreamingHistory0.json\").to_csv(\"spotify_0.csv\", index = False)\n",
    "pd.read_json(\"StreamingHistory1.json\").to_csv(\"spotify_1.csv\", index = False)\n",
    "pd.read_json(\"StreamingHistory2.json\").to_csv(\"spotify_2.csv\", index = False)"
   ]
  },
  {
   "cell_type": "markdown",
   "metadata": {},
   "source": [
    "## 3. Combine the .csv files into one .csv file"
   ]
  },
  {
   "cell_type": "code",
   "execution_count": 18,
   "metadata": {},
   "outputs": [
    {
     "data": {
      "text/plain": [
       "['spotify_0.csv', 'spotify_1.csv', 'spotify_2.csv']"
      ]
     },
     "execution_count": 18,
     "metadata": {},
     "output_type": "execute_result"
    }
   ],
   "source": [
    "# list all csv files only\n",
    "csv_files = glob.glob(f\"*.csv\")\n",
    "csv_files"
   ]
  },
  {
   "cell_type": "code",
   "execution_count": 19,
   "metadata": {},
   "outputs": [
    {
     "data": {
      "text/html": [
       "<div>\n",
       "<style scoped>\n",
       "    .dataframe tbody tr th:only-of-type {\n",
       "        vertical-align: middle;\n",
       "    }\n",
       "\n",
       "    .dataframe tbody tr th {\n",
       "        vertical-align: top;\n",
       "    }\n",
       "\n",
       "    .dataframe thead th {\n",
       "        text-align: right;\n",
       "    }\n",
       "</style>\n",
       "<table border=\"1\" class=\"dataframe\">\n",
       "  <thead>\n",
       "    <tr style=\"text-align: right;\">\n",
       "      <th></th>\n",
       "      <th>endTime</th>\n",
       "      <th>artistName</th>\n",
       "      <th>trackName</th>\n",
       "      <th>msPlayed</th>\n",
       "    </tr>\n",
       "  </thead>\n",
       "  <tbody>\n",
       "    <tr>\n",
       "      <th>27192</th>\n",
       "      <td>2022-11-01 20:05</td>\n",
       "      <td>Madvillain</td>\n",
       "      <td>Fancy Clown</td>\n",
       "      <td>115742</td>\n",
       "    </tr>\n",
       "    <tr>\n",
       "      <th>27193</th>\n",
       "      <td>2022-11-01 20:07</td>\n",
       "      <td>Madvillain</td>\n",
       "      <td>Accordion</td>\n",
       "      <td>118670</td>\n",
       "    </tr>\n",
       "    <tr>\n",
       "      <th>27194</th>\n",
       "      <td>2022-11-01 20:09</td>\n",
       "      <td>Madvillain</td>\n",
       "      <td>Raid</td>\n",
       "      <td>149968</td>\n",
       "    </tr>\n",
       "    <tr>\n",
       "      <th>27195</th>\n",
       "      <td>2022-11-01 20:11</td>\n",
       "      <td>JJ DOOM</td>\n",
       "      <td>Waterlogged</td>\n",
       "      <td>109830</td>\n",
       "    </tr>\n",
       "    <tr>\n",
       "      <th>27196</th>\n",
       "      <td>2022-11-01 20:30</td>\n",
       "      <td>JJ DOOM</td>\n",
       "      <td>Guv'nor</td>\n",
       "      <td>49156</td>\n",
       "    </tr>\n",
       "  </tbody>\n",
       "</table>\n",
       "</div>"
      ],
      "text/plain": [
       "                endTime  artistName    trackName  msPlayed\n",
       "27192  2022-11-01 20:05  Madvillain  Fancy Clown    115742\n",
       "27193  2022-11-01 20:07  Madvillain    Accordion    118670\n",
       "27194  2022-11-01 20:09  Madvillain         Raid    149968\n",
       "27195  2022-11-01 20:11     JJ DOOM  Waterlogged    109830\n",
       "27196  2022-11-01 20:30     JJ DOOM      Guv'nor     49156"
      ]
     },
     "execution_count": 19,
     "metadata": {},
     "output_type": "execute_result"
    }
   ],
   "source": [
    "df_combined = pd.concat([pd.read_csv(file) for file in csv_files], ignore_index=True)\n",
    "df_combined.tail()"
   ]
  },
  {
   "cell_type": "markdown",
   "metadata": {},
   "source": [
    "## 4. Add a weekday based on the endTime column"
   ]
  },
  {
   "cell_type": "code",
   "execution_count": 20,
   "metadata": {},
   "outputs": [
    {
     "data": {
      "text/html": [
       "<div>\n",
       "<style scoped>\n",
       "    .dataframe tbody tr th:only-of-type {\n",
       "        vertical-align: middle;\n",
       "    }\n",
       "\n",
       "    .dataframe tbody tr th {\n",
       "        vertical-align: top;\n",
       "    }\n",
       "\n",
       "    .dataframe thead th {\n",
       "        text-align: right;\n",
       "    }\n",
       "</style>\n",
       "<table border=\"1\" class=\"dataframe\">\n",
       "  <thead>\n",
       "    <tr style=\"text-align: right;\">\n",
       "      <th></th>\n",
       "      <th>endTime</th>\n",
       "      <th>artistName</th>\n",
       "      <th>trackName</th>\n",
       "      <th>msPlayed</th>\n",
       "      <th>dayOfWeek</th>\n",
       "    </tr>\n",
       "  </thead>\n",
       "  <tbody>\n",
       "    <tr>\n",
       "      <th>27192</th>\n",
       "      <td>2022-11-01 20:05:00</td>\n",
       "      <td>Madvillain</td>\n",
       "      <td>Fancy Clown</td>\n",
       "      <td>115742</td>\n",
       "      <td>Tuesday</td>\n",
       "    </tr>\n",
       "    <tr>\n",
       "      <th>27193</th>\n",
       "      <td>2022-11-01 20:07:00</td>\n",
       "      <td>Madvillain</td>\n",
       "      <td>Accordion</td>\n",
       "      <td>118670</td>\n",
       "      <td>Tuesday</td>\n",
       "    </tr>\n",
       "    <tr>\n",
       "      <th>27194</th>\n",
       "      <td>2022-11-01 20:09:00</td>\n",
       "      <td>Madvillain</td>\n",
       "      <td>Raid</td>\n",
       "      <td>149968</td>\n",
       "      <td>Tuesday</td>\n",
       "    </tr>\n",
       "    <tr>\n",
       "      <th>27195</th>\n",
       "      <td>2022-11-01 20:11:00</td>\n",
       "      <td>JJ DOOM</td>\n",
       "      <td>Waterlogged</td>\n",
       "      <td>109830</td>\n",
       "      <td>Tuesday</td>\n",
       "    </tr>\n",
       "    <tr>\n",
       "      <th>27196</th>\n",
       "      <td>2022-11-01 20:30:00</td>\n",
       "      <td>JJ DOOM</td>\n",
       "      <td>Guv'nor</td>\n",
       "      <td>49156</td>\n",
       "      <td>Tuesday</td>\n",
       "    </tr>\n",
       "  </tbody>\n",
       "</table>\n",
       "</div>"
      ],
      "text/plain": [
       "                  endTime  artistName    trackName  msPlayed dayOfWeek\n",
       "27192 2022-11-01 20:05:00  Madvillain  Fancy Clown    115742   Tuesday\n",
       "27193 2022-11-01 20:07:00  Madvillain    Accordion    118670   Tuesday\n",
       "27194 2022-11-01 20:09:00  Madvillain         Raid    149968   Tuesday\n",
       "27195 2022-11-01 20:11:00     JJ DOOM  Waterlogged    109830   Tuesday\n",
       "27196 2022-11-01 20:30:00     JJ DOOM      Guv'nor     49156   Tuesday"
      ]
     },
     "execution_count": 20,
     "metadata": {},
     "output_type": "execute_result"
    }
   ],
   "source": [
    "df_combined['endTime'] = pd.to_datetime(df_combined['endTime'])\n",
    "df_combined['dayOfWeek'] = df_combined['endTime'].dt.day_name()\n",
    "df_combined.tail()"
   ]
  },
  {
   "attachments": {},
   "cell_type": "markdown",
   "metadata": {},
   "source": [
    "## 5. Save the combined data"
   ]
  },
  {
   "cell_type": "code",
   "execution_count": 21,
   "metadata": {},
   "outputs": [],
   "source": [
    "df_combined.to_csv(\"spotify_data_combined.csv\", index = False)"
   ]
  },
  {
   "cell_type": "code",
   "execution_count": null,
   "metadata": {},
   "outputs": [],
   "source": []
  }
 ],
 "metadata": {
  "kernelspec": {
   "display_name": "base",
   "language": "python",
   "name": "python3"
  },
  "language_info": {
   "codemirror_mode": {
    "name": "ipython",
    "version": 3
   },
   "file_extension": ".py",
   "mimetype": "text/x-python",
   "name": "python",
   "nbconvert_exporter": "python",
   "pygments_lexer": "ipython3",
   "version": "3.9.16"
  },
  "orig_nbformat": 4
 },
 "nbformat": 4,
 "nbformat_minor": 2
}
